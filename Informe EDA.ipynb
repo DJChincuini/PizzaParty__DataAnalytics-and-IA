{
 "cells": [
  {
   "cell_type": "code",
   "execution_count": 1,
   "metadata": {},
   "outputs": [],
   "source": [
    "import pandas as pd\n",
    "\n",
    "df = pd.read_csv('./Datasets/Pizza Party Sales.csv')"
   ]
  },
  {
   "cell_type": "markdown",
   "metadata": {},
   "source": [
    "Viendo la información del dataset podemos ver que **no contiene nulos**. Además, seis de las siete columnas son de tipo *'object'*, mientras que la restante es de tipo *'float64'*"
   ]
  },
  {
   "cell_type": "code",
   "execution_count": 3,
   "metadata": {},
   "outputs": [
    {
     "name": "stdout",
     "output_type": "stream",
     "text": [
      "<class 'pandas.core.frame.DataFrame'>\n",
      "RangeIndex: 49574 entries, 0 to 49573\n",
      "Data columns (total 7 columns):\n",
      " #   Column  Non-Null Count  Dtype  \n",
      "---  ------  --------------  -----  \n",
      " 0   id      49574 non-null  object \n",
      " 1   date    49574 non-null  object \n",
      " 2   time    49574 non-null  object \n",
      " 3   name    49574 non-null  object \n",
      " 4   size    49574 non-null  object \n",
      " 5   type    49574 non-null  object \n",
      " 6   price   49574 non-null  float64\n",
      "dtypes: float64(1), object(6)\n",
      "memory usage: 2.6+ MB\n"
     ]
    }
   ],
   "source": [
    "df.info()"
   ]
  },
  {
   "cell_type": "markdown",
   "metadata": {},
   "source": [
    "Primera visualización del Dataset\n",
    "\n",
    "**Formato de los dato:** La columna *id* cuenta con el año del pedido primero y luego un número identificatorio de seis dígitos (AAAA-000000). La columna *date* tiene un formato de fecha de día/mes/año (DD/MM/AAAA).La columna *time* tiene un formato de hora:minutos:segundos (HH:MM:SS). La columna *name* contiene una abreviatura del nombre de la pizza sumado a una abreviatura de la variedad, si es que tiene una. La columna *size* contiene la medida de la pizza representado con una letra (Ej. M = 'Medium'). La columna *type* contiene la variedad de la pizza. La columna *price* contiene el precio final de la venta representado con un valor de tipo *flotante*."
   ]
  },
  {
   "cell_type": "code",
   "execution_count": 2,
   "metadata": {},
   "outputs": [
    {
     "data": {
      "text/html": [
       "<div>\n",
       "<style scoped>\n",
       "    .dataframe tbody tr th:only-of-type {\n",
       "        vertical-align: middle;\n",
       "    }\n",
       "\n",
       "    .dataframe tbody tr th {\n",
       "        vertical-align: top;\n",
       "    }\n",
       "\n",
       "    .dataframe thead th {\n",
       "        text-align: right;\n",
       "    }\n",
       "</style>\n",
       "<table border=\"1\" class=\"dataframe\">\n",
       "  <thead>\n",
       "    <tr style=\"text-align: right;\">\n",
       "      <th></th>\n",
       "      <th>id</th>\n",
       "      <th>date</th>\n",
       "      <th>time</th>\n",
       "      <th>name</th>\n",
       "      <th>size</th>\n",
       "      <th>type</th>\n",
       "      <th>price</th>\n",
       "    </tr>\n",
       "  </thead>\n",
       "  <tbody>\n",
       "    <tr>\n",
       "      <th>34707</th>\n",
       "      <td>2015-015037</td>\n",
       "      <td>09/09/2015</td>\n",
       "      <td>11:42:46</td>\n",
       "      <td>veggie_veg</td>\n",
       "      <td>M</td>\n",
       "      <td>veggie</td>\n",
       "      <td>16.00</td>\n",
       "    </tr>\n",
       "    <tr>\n",
       "      <th>16180</th>\n",
       "      <td>2015-006982</td>\n",
       "      <td>27/04/2015</td>\n",
       "      <td>17:46:31</td>\n",
       "      <td>ital_cpcllo</td>\n",
       "      <td>S</td>\n",
       "      <td>classic</td>\n",
       "      <td>12.00</td>\n",
       "    </tr>\n",
       "    <tr>\n",
       "      <th>36221</th>\n",
       "      <td>2015-015688</td>\n",
       "      <td>19/09/2015</td>\n",
       "      <td>17:28:54</td>\n",
       "      <td>ital_cpcllo</td>\n",
       "      <td>L</td>\n",
       "      <td>classic</td>\n",
       "      <td>20.50</td>\n",
       "    </tr>\n",
       "    <tr>\n",
       "      <th>6932</th>\n",
       "      <td>2015-003010</td>\n",
       "      <td>20/02/2015</td>\n",
       "      <td>12:26:16</td>\n",
       "      <td>hawaiian</td>\n",
       "      <td>M</td>\n",
       "      <td>classic</td>\n",
       "      <td>13.25</td>\n",
       "    </tr>\n",
       "    <tr>\n",
       "      <th>38603</th>\n",
       "      <td>2015-016715</td>\n",
       "      <td>09/10/2015</td>\n",
       "      <td>21:21:50</td>\n",
       "      <td>ital_supr</td>\n",
       "      <td>L</td>\n",
       "      <td>supreme</td>\n",
       "      <td>20.75</td>\n",
       "    </tr>\n",
       "  </tbody>\n",
       "</table>\n",
       "</div>"
      ],
      "text/plain": [
       "                id        date      time         name size     type  price\n",
       "34707  2015-015037  09/09/2015  11:42:46   veggie_veg    M   veggie  16.00\n",
       "16180  2015-006982  27/04/2015  17:46:31  ital_cpcllo    S  classic  12.00\n",
       "36221  2015-015688  19/09/2015  17:28:54  ital_cpcllo    L  classic  20.50\n",
       "6932   2015-003010  20/02/2015  12:26:16     hawaiian    M  classic  13.25\n",
       "38603  2015-016715  09/10/2015  21:21:50    ital_supr    L  supreme  20.75"
      ]
     },
     "execution_count": 2,
     "metadata": {},
     "output_type": "execute_result"
    }
   ],
   "source": [
    "df.sample(5)"
   ]
  }
 ],
 "metadata": {
  "kernelspec": {
   "display_name": "Python 3",
   "language": "python",
   "name": "python3"
  },
  "language_info": {
   "codemirror_mode": {
    "name": "ipython",
    "version": 3
   },
   "file_extension": ".py",
   "mimetype": "text/x-python",
   "name": "python",
   "nbconvert_exporter": "python",
   "pygments_lexer": "ipython3",
   "version": "3.11.9"
  }
 },
 "nbformat": 4,
 "nbformat_minor": 2
}
